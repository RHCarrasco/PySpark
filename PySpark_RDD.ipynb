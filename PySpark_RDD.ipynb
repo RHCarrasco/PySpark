{
  "nbformat": 4,
  "nbformat_minor": 0,
  "metadata": {
    "colab": {
      "provenance": [],
      "authorship_tag": "ABX9TyOcItlLyHbjwsm6CcHmtmlg",
      "include_colab_link": true
    },
    "kernelspec": {
      "name": "python3",
      "display_name": "Python 3"
    },
    "language_info": {
      "name": "python"
    }
  },
  "cells": [
    {
      "cell_type": "markdown",
      "metadata": {
        "id": "view-in-github",
        "colab_type": "text"
      },
      "source": [
        "<a href=\"https://colab.research.google.com/github/RHCarrasco/PySpark/blob/main/PySpark_RDD.ipynb\" target=\"_parent\"><img src=\"https://colab.research.google.com/assets/colab-badge.svg\" alt=\"Open In Colab\"/></a>"
      ]
    },
    {
      "cell_type": "code",
      "execution_count": null,
      "metadata": {
        "id": "UtD6nhtr70ZP"
      },
      "outputs": [],
      "source": [
        "!pip install pyspark\n",
        "from pyspark import SparkContext"
      ]
    },
    {
      "cell_type": "code",
      "source": [
        "sc=SparkContext()"
      ],
      "metadata": {
        "id": "YALEBe9RNlK3"
      },
      "execution_count": 2,
      "outputs": []
    },
    {
      "cell_type": "code",
      "source": [
        "textFile = sc.textFile('ejemplo.txt')"
      ],
      "metadata": {
        "id": "gHFargQkODRL"
      },
      "execution_count": 23,
      "outputs": []
    },
    {
      "cell_type": "code",
      "source": [
        "lista = [1,2,3,4,5]\n",
        "rdd = sc.parallelize(lista)"
      ],
      "metadata": {
        "id": "u1bKcImsOsr9"
      },
      "execution_count": 4,
      "outputs": []
    },
    {
      "cell_type": "markdown",
      "source": [
        "#Acciones"
      ],
      "metadata": {
        "id": "4AA02cEZPWur"
      }
    },
    {
      "cell_type": "code",
      "source": [
        "#Devuelve el contenido del RDD\n",
        "textFile.collect()"
      ],
      "metadata": {
        "colab": {
          "base_uri": "https://localhost:8080/"
        },
        "id": "BnnMUjQeOxYD",
        "outputId": "bf28c100-021f-4248-ac86-6f75a132cbe2"
      },
      "execution_count": null,
      "outputs": [
        {
          "output_type": "execute_result",
          "data": {
            "text/plain": [
              "['primera linea', 'segunda linea', 'tercera linea', 'cuarta linea']"
            ]
          },
          "metadata": {},
          "execution_count": 5
        }
      ]
    },
    {
      "cell_type": "code",
      "source": [
        "#Devuelve el numero de elementos del RDD\n",
        "textFile.count()"
      ],
      "metadata": {
        "colab": {
          "base_uri": "https://localhost:8080/"
        },
        "id": "X6wwUj-eO5AA",
        "outputId": "eaee028d-3ead-475c-8819-f089feaebc90"
      },
      "execution_count": null,
      "outputs": [
        {
          "output_type": "execute_result",
          "data": {
            "text/plain": [
              "4"
            ]
          },
          "metadata": {},
          "execution_count": 6
        }
      ]
    },
    {
      "cell_type": "code",
      "source": [
        "#Devuelve el primer elemento del RDD\n",
        "textFile.first()"
      ],
      "metadata": {
        "colab": {
          "base_uri": "https://localhost:8080/",
          "height": 35
        },
        "id": "cmtuS3zjPeBa",
        "outputId": "3e361f4f-af1b-44b1-cead-3601826d177c"
      },
      "execution_count": null,
      "outputs": [
        {
          "output_type": "execute_result",
          "data": {
            "text/plain": [
              "'primera linea'"
            ],
            "application/vnd.google.colaboratory.intrinsic+json": {
              "type": "string"
            }
          },
          "metadata": {},
          "execution_count": 7
        }
      ]
    },
    {
      "cell_type": "markdown",
      "source": [
        "#Transformaciones"
      ],
      "metadata": {
        "id": "L2SSYoPZPe7m"
      }
    },
    {
      "cell_type": "markdown",
      "source": [
        "### filter() filtra los elementos de un RDD"
      ],
      "metadata": {
        "id": "rMovZUCaZyzt"
      }
    },
    {
      "cell_type": "code",
      "source": [
        "#Filtra cualquier linea del RDD que tenga la palabra 'segunda'\n",
        "segunda = textFile.filter(lambda linea: 'segunda' in linea)\n",
        "segunda.collect()"
      ],
      "metadata": {
        "colab": {
          "base_uri": "https://localhost:8080/"
        },
        "id": "mEDJkYgWPGTZ",
        "outputId": "bfd1bd5c-a369-4d56-d368-d13c8fb79a19"
      },
      "execution_count": null,
      "outputs": [
        {
          "output_type": "execute_result",
          "data": {
            "text/plain": [
              "['segunda linea']"
            ]
          },
          "metadata": {},
          "execution_count": 8
        }
      ]
    },
    {
      "cell_type": "code",
      "source": [
        "filtrado_rdd = rdd.filter(lambda x: x > 1)\n",
        "filtrado_rdd.collect()"
      ],
      "metadata": {
        "id": "h5p6Z3diP6Xd",
        "colab": {
          "base_uri": "https://localhost:8080/"
        },
        "outputId": "a5986706-d29d-4f12-dc7f-035fa5c880aa"
      },
      "execution_count": null,
      "outputs": [
        {
          "output_type": "execute_result",
          "data": {
            "text/plain": [
              "[2, 3, 4, 5]"
            ]
          },
          "metadata": {},
          "execution_count": 9
        }
      ]
    },
    {
      "cell_type": "markdown",
      "source": [
        "### map() aplica una función a todos los elementos de un RDD"
      ],
      "metadata": {
        "id": "suHJDnRXZ88N"
      }
    },
    {
      "cell_type": "code",
      "source": [
        "#Suma 1 a todos los elmentos de un RDD\n",
        "def suma1(x):\n",
        "  return (x+1)\n",
        "\n",
        "filtrado_sumado_rdd = filtrado_rdd.map(suma1)\n",
        "filtrado_sumado_rdd.collect()"
      ],
      "metadata": {
        "colab": {
          "base_uri": "https://localhost:8080/"
        },
        "id": "hsXOPFhBTRPo",
        "outputId": "3fa8cd14-1b44-4399-bac3-926fa217d8c2"
      },
      "execution_count": null,
      "outputs": [
        {
          "output_type": "execute_result",
          "data": {
            "text/plain": [
              "[3, 4, 5, 6]"
            ]
          },
          "metadata": {},
          "execution_count": 10
        }
      ]
    },
    {
      "cell_type": "code",
      "source": [
        "#Haz el cuadrado de los elementos del RDD\n",
        "cuadrado_rdd = filtrado_sumado_rdd.map(lambda x: (x, x**2))\n",
        "print(cuadrado_rdd.collect())\n",
        "#Tambien se podrian poner todas las operaciones anteriores seguidas\n",
        "print(rdd.filter(lambda x:x>1).map(suma1).map(lambda x: (x, x**2)).collect())"
      ],
      "metadata": {
        "id": "Q3J76E4CTZHx",
        "colab": {
          "base_uri": "https://localhost:8080/"
        },
        "outputId": "8e98f204-f1e3-4770-b142-124c2a9c54a4"
      },
      "execution_count": null,
      "outputs": [
        {
          "output_type": "stream",
          "name": "stdout",
          "text": [
            "[(3, 9), (4, 16), (5, 25), (6, 36)]\n",
            "[(3, 9), (4, 16), (5, 25), (6, 36)]\n"
          ]
        }
      ]
    },
    {
      "cell_type": "markdown",
      "source": [
        "### flatMap() es igual que map() pero te convierte el resultado a una lista simple"
      ],
      "metadata": {
        "id": "r46hFiQpfiAY"
      }
    },
    {
      "cell_type": "code",
      "source": [
        "#Haz el cuadrado de los elementos del RDD\n",
        "cuadrado_rdd = filtrado_sumado_rdd.flatMap(lambda x: (x, x**2))\n",
        "cuadrado_rdd.collect()"
      ],
      "metadata": {
        "colab": {
          "base_uri": "https://localhost:8080/"
        },
        "id": "VyprppqFeVb4",
        "outputId": "50450c04-3a0e-49a4-cb94-6f126d88bcda"
      },
      "execution_count": null,
      "outputs": [
        {
          "output_type": "execute_result",
          "data": {
            "text/plain": [
              "[3, 9, 4, 16, 5, 25, 6, 36]"
            ]
          },
          "metadata": {},
          "execution_count": 12
        }
      ]
    },
    {
      "cell_type": "markdown",
      "source": [
        "### union() une dos RDD"
      ],
      "metadata": {
        "id": "oA4VL0f6nen-"
      }
    },
    {
      "cell_type": "code",
      "source": [
        "#Unir los RDD cuadrado_rdd y filtrado_sumado_rdd en un unico RDD\n",
        "union = filtrado_sumado_rdd.union(cuadrado_rdd)\n",
        "union.collect()"
      ],
      "metadata": {
        "colab": {
          "base_uri": "https://localhost:8080/"
        },
        "id": "I_w5oETQf7Oq",
        "outputId": "528410e9-8651-4832-da8e-0b9c1d23ac4d"
      },
      "execution_count": null,
      "outputs": [
        {
          "output_type": "execute_result",
          "data": {
            "text/plain": [
              "[3, 4, 5, 6, 3, 9, 4, 16, 5, 25, 6, 36]"
            ]
          },
          "metadata": {},
          "execution_count": 13
        }
      ]
    },
    {
      "cell_type": "markdown",
      "source": [
        "### zip() crea un RDD de tipo clave valor a partir de una lista de tuplas"
      ],
      "metadata": {
        "id": "eoT4WtlXoRJ0"
      }
    },
    {
      "cell_type": "code",
      "source": [
        "#Se puede crear una lista de tuplas a partir de una lista\n",
        "lista_tuplas = [('a', 1), ('b', 2), ('c', 3)]\n",
        "pair_rdd = sc.parallelize(lista_tuplas)\n",
        "#Pero tambien se puede crear una lista de tuplas mediante zip\n",
        "lista_tuplas2 = zip(['a','b','c'], range(1,4))\n",
        "pair_rdd2 = sc.parallelize(lista_tuplas2)\n",
        "pair_rdd2.collect()"
      ],
      "metadata": {
        "colab": {
          "base_uri": "https://localhost:8080/"
        },
        "id": "vzIdqhGsnzBG",
        "outputId": "9d36e139-d171-4497-a6de-771e5dd3603c"
      },
      "execution_count": null,
      "outputs": [
        {
          "output_type": "execute_result",
          "data": {
            "text/plain": [
              "[('a', 1), ('b', 2), ('c', 3)]"
            ]
          },
          "metadata": {},
          "execution_count": 14
        }
      ]
    },
    {
      "cell_type": "code",
      "source": [
        "#Se puede utilizar tambien con dos RDD\n",
        "#Tienen que tener el mismo numero de elementos(5),\n",
        "#el mismo numero de particiones(3)\n",
        "#y el mismo numero de elementos por particion.\n",
        "rdd1 = sc.parallelize(range(5), 3)\n",
        "rdd2 = sc.parallelize(range(100,105,1), 3)\n",
        "print(rdd1.glom().collect())\n",
        "print(rdd2.glom().collect())\n",
        "#el resultado tendra el mismo numero de particiones y el mismo numero de elementos por particion\n",
        "pair_rdd = rdd1.zip(rdd2)\n",
        "pair_rdd.collect()"
      ],
      "metadata": {
        "colab": {
          "base_uri": "https://localhost:8080/"
        },
        "id": "E9YEbdpHpwJ7",
        "outputId": "0a6a1112-42ba-488d-d9bb-fb29af813c81"
      },
      "execution_count": null,
      "outputs": [
        {
          "output_type": "stream",
          "name": "stdout",
          "text": [
            "[[0], [1, 2], [3, 4]]\n",
            "[[100], [101, 102], [103, 104]]\n"
          ]
        },
        {
          "output_type": "execute_result",
          "data": {
            "text/plain": [
              "[(0, 100), (1, 101), (2, 102), (3, 103), (4, 104)]"
            ]
          },
          "metadata": {},
          "execution_count": 18
        }
      ]
    },
    {
      "cell_type": "markdown",
      "source": [
        "### keyBy() crea una clave para cada valor del RDD"
      ],
      "metadata": {
        "id": "bjRQftlkqzCh"
      }
    },
    {
      "cell_type": "code",
      "source": [
        "#Crear una lista clave valor en la que la clave sea la valor+1\n",
        "rdd = sc.parallelize(range(5))\n",
        "pair_rdd = rdd.keyBy(lambda x: x+1)\n",
        "print(pair_rdd.collect())\n",
        "#Sería igual que si hacemos un map en el que para cada elemento del rdd pongas una tupla de si mismo y su valor+1\n",
        "print(rdd.map(lambda x: (x+1,x)).collect())"
      ],
      "metadata": {
        "colab": {
          "base_uri": "https://localhost:8080/"
        },
        "id": "uJloUKhUqYax",
        "outputId": "1862c719-1e0e-42dd-b19b-824bc20518bf"
      },
      "execution_count": null,
      "outputs": [
        {
          "output_type": "stream",
          "name": "stdout",
          "text": [
            "[(1, 0), (2, 1), (3, 2), (4, 3), (5, 4)]\n",
            "[(1, 0), (2, 1), (3, 2), (4, 3), (5, 4)]\n"
          ]
        }
      ]
    },
    {
      "cell_type": "markdown",
      "source": [
        "#Persistencia"
      ],
      "metadata": {
        "id": "9cCscMwqI-F8"
      }
    },
    {
      "cell_type": "markdown",
      "source": [
        "###cache()  guarda por defecto en la memoria"
      ],
      "metadata": {
        "id": "kILncGRsJANQ"
      }
    },
    {
      "cell_type": "code",
      "source": [
        "rdd = sc.parallelize(range(100), 10)"
      ],
      "metadata": {
        "id": "bBbqA15XrR8z"
      },
      "execution_count": 5,
      "outputs": []
    },
    {
      "cell_type": "code",
      "source": [
        "rdd.is_cached"
      ],
      "metadata": {
        "colab": {
          "base_uri": "https://localhost:8080/"
        },
        "id": "VQmkN51tJxls",
        "outputId": "717a8a90-ea01-477a-f185-a17b552a0ab8"
      },
      "execution_count": 6,
      "outputs": [
        {
          "output_type": "execute_result",
          "data": {
            "text/plain": [
              "False"
            ]
          },
          "metadata": {},
          "execution_count": 6
        }
      ]
    },
    {
      "cell_type": "code",
      "source": [
        "rdd.cache()"
      ],
      "metadata": {
        "colab": {
          "base_uri": "https://localhost:8080/"
        },
        "id": "MGT7Ye4hJ2r9",
        "outputId": "cc08821e-e730-47e2-f201-2784b7559620"
      },
      "execution_count": 7,
      "outputs": [
        {
          "output_type": "execute_result",
          "data": {
            "text/plain": [
              "PythonRDD[4] at RDD at PythonRDD.scala:53"
            ]
          },
          "metadata": {},
          "execution_count": 7
        }
      ]
    },
    {
      "cell_type": "code",
      "source": [
        "rdd.is_cached"
      ],
      "metadata": {
        "colab": {
          "base_uri": "https://localhost:8080/"
        },
        "id": "oC8pUR7ZJ6-Z",
        "outputId": "7acdaa0e-8541-4779-c8ca-8aa3ceede10f"
      },
      "execution_count": 9,
      "outputs": [
        {
          "output_type": "execute_result",
          "data": {
            "text/plain": [
              "True"
            ]
          },
          "metadata": {},
          "execution_count": 9
        }
      ]
    },
    {
      "cell_type": "markdown",
      "source": [
        "###persist()  guarda donde lo indica el usuario"
      ],
      "metadata": {
        "id": "nSshQypnJF4K"
      }
    },
    {
      "cell_type": "code",
      "source": [
        "from pyspark import StorageLevel\n",
        "rdd2 = rdd.map(lambda x:x*2)\n",
        "rdd2.persist(StorageLevel.MEMORY_AND_DISK_DESER)"
      ],
      "metadata": {
        "id": "T3R3POc4rp27",
        "colab": {
          "base_uri": "https://localhost:8080/"
        },
        "outputId": "9256ee02-ef4a-4ea8-94a9-9698d3285f60"
      },
      "execution_count": 10,
      "outputs": [
        {
          "output_type": "execute_result",
          "data": {
            "text/plain": [
              "PythonRDD[5] at RDD at PythonRDD.scala:53"
            ]
          },
          "metadata": {},
          "execution_count": 10
        }
      ]
    },
    {
      "cell_type": "code",
      "source": [
        "rdd2.is_cached"
      ],
      "metadata": {
        "colab": {
          "base_uri": "https://localhost:8080/"
        },
        "id": "aU7vEV3HKZ_n",
        "outputId": "285a673d-fac1-4636-adcf-449d7b955c5c"
      },
      "execution_count": 11,
      "outputs": [
        {
          "output_type": "execute_result",
          "data": {
            "text/plain": [
              "True"
            ]
          },
          "metadata": {},
          "execution_count": 11
        }
      ]
    },
    {
      "cell_type": "markdown",
      "source": [
        "#Particionado"
      ],
      "metadata": {
        "id": "1mk5e1DlLBmg"
      }
    },
    {
      "cell_type": "code",
      "source": [
        "rdd = sc.parallelize([1,1,2,2,3,3,4,4], 4)"
      ],
      "metadata": {
        "id": "diWO8RYVLDZ9"
      },
      "execution_count": 12,
      "outputs": []
    },
    {
      "cell_type": "markdown",
      "source": [
        "### getNumPartitions() obtenemos el numero de particiones"
      ],
      "metadata": {
        "id": "0K_KJNyUL0J9"
      }
    },
    {
      "cell_type": "code",
      "source": [
        "rdd.getNumPartitions()"
      ],
      "metadata": {
        "colab": {
          "base_uri": "https://localhost:8080/"
        },
        "id": "COkpX8ENLaX2",
        "outputId": "054e1741-4f08-4f67-f00d-f47d03d40941"
      },
      "execution_count": 13,
      "outputs": [
        {
          "output_type": "execute_result",
          "data": {
            "text/plain": [
              "4"
            ]
          },
          "metadata": {},
          "execution_count": 13
        }
      ]
    },
    {
      "cell_type": "markdown",
      "source": [
        "### glom() obtenemos cómo están distribuidos los datos en las particiones"
      ],
      "metadata": {
        "id": "N2fSv2A2L49X"
      }
    },
    {
      "cell_type": "code",
      "source": [
        "rdd.glom().collect()"
      ],
      "metadata": {
        "colab": {
          "base_uri": "https://localhost:8080/"
        },
        "id": "H36OJPGhLgTt",
        "outputId": "59b91d89-4e91-4a0e-b6e2-fb318426946d"
      },
      "execution_count": 14,
      "outputs": [
        {
          "output_type": "execute_result",
          "data": {
            "text/plain": [
              "[[1, 1], [2, 2], [3, 3], [4, 4]]"
            ]
          },
          "metadata": {},
          "execution_count": 14
        }
      ]
    },
    {
      "cell_type": "code",
      "source": [
        "#El particionado se hereda\n",
        "rdd2 = rdd.map(lambda x:x*2)\n",
        "rdd2.glom().collect()"
      ],
      "metadata": {
        "colab": {
          "base_uri": "https://localhost:8080/"
        },
        "id": "4tir7FtkMA1C",
        "outputId": "139ff38e-4a1a-4271-a050-0ba69101c349"
      },
      "execution_count": 15,
      "outputs": [
        {
          "output_type": "execute_result",
          "data": {
            "text/plain": [
              "[[2, 2], [4, 4], [6, 6], [8, 8]]"
            ]
          },
          "metadata": {},
          "execution_count": 15
        }
      ]
    },
    {
      "cell_type": "markdown",
      "source": [
        "### reduceByKey()"
      ],
      "metadata": {
        "id": "7CZMiMeeMyKc"
      }
    },
    {
      "cell_type": "code",
      "source": [
        "pair_rdd = rdd.map(lambda x:(x,x))\n",
        "pair_rdd.glom().collect()"
      ],
      "metadata": {
        "colab": {
          "base_uri": "https://localhost:8080/"
        },
        "id": "srwvCPtiM6rE",
        "outputId": "b28d3835-abf8-4fc6-ff72-81c6d3bc67e9"
      },
      "execution_count": 20,
      "outputs": [
        {
          "output_type": "execute_result",
          "data": {
            "text/plain": [
              "[[(1, 1), (1, 1)], [(2, 2), (2, 2)], [(3, 3), (3, 3)], [(4, 4), (4, 4)]]"
            ]
          },
          "metadata": {},
          "execution_count": 20
        }
      ]
    },
    {
      "cell_type": "code",
      "source": [
        "pair_rdd.reduceByKey(lambda x,y: x+y).glom().collect()"
      ],
      "metadata": {
        "colab": {
          "base_uri": "https://localhost:8080/"
        },
        "id": "z-jm9unUNE8T",
        "outputId": "a0879004-699c-4651-e876-568f1d898c20"
      },
      "execution_count": 21,
      "outputs": [
        {
          "output_type": "execute_result",
          "data": {
            "text/plain": [
              "[[(4, 8)], [(1, 2)], [(2, 4)], [(3, 6)]]"
            ]
          },
          "metadata": {},
          "execution_count": 21
        }
      ]
    },
    {
      "cell_type": "code",
      "source": [
        "textFile.flatMap(lambda line: line.split(\" \")) \\\n",
        "             .map(lambda word: (word, 1)) \\\n",
        "             .reduceByKey(lambda a,b: a + b) \\\n",
        "             .collect()"
      ],
      "metadata": {
        "colab": {
          "base_uri": "https://localhost:8080/"
        },
        "id": "SqW5caLtMPo8",
        "outputId": "858d1fe3-0c72-4bdf-e502-b135e488004d"
      },
      "execution_count": 37,
      "outputs": [
        {
          "output_type": "execute_result",
          "data": {
            "text/plain": [
              "[('primera', 1), ('tercera', 1), ('linea', 4), ('segunda', 1), ('cuarta', 1)]"
            ]
          },
          "metadata": {},
          "execution_count": 37
        }
      ]
    },
    {
      "cell_type": "code",
      "source": [
        "textFile.flatMap(lambda line: line.split(\" \")).count()"
      ],
      "metadata": {
        "colab": {
          "base_uri": "https://localhost:8080/"
        },
        "id": "xsp60_rWMqzt",
        "outputId": "5bc739da-82b8-40f0-e524-464f740621f4"
      },
      "execution_count": 36,
      "outputs": [
        {
          "output_type": "execute_result",
          "data": {
            "text/plain": [
              "8"
            ]
          },
          "metadata": {},
          "execution_count": 36
        }
      ]
    },
    {
      "cell_type": "markdown",
      "source": [
        "###repartition() devuelve un nuevo RDD que tiene n particiones"
      ],
      "metadata": {
        "id": "LmK3SDcJTZB4"
      }
    },
    {
      "cell_type": "code",
      "source": [
        "pair_rdd6 = pair_rdd.repartition(6)\n",
        "pair_rdd6.getNumPartitions()"
      ],
      "metadata": {
        "colab": {
          "base_uri": "https://localhost:8080/"
        },
        "id": "FKyeEbKzTYQB",
        "outputId": "1dc628e6-ab01-448e-e535-aa8bb5e0a753"
      },
      "execution_count": 39,
      "outputs": [
        {
          "output_type": "execute_result",
          "data": {
            "text/plain": [
              "6"
            ]
          },
          "metadata": {},
          "execution_count": 39
        }
      ]
    },
    {
      "cell_type": "markdown",
      "source": [
        "### coalesce() para reducir el numero de particiones"
      ],
      "metadata": {
        "id": "sgXlHa3LTgGe"
      }
    },
    {
      "cell_type": "code",
      "source": [
        "pair_rdd2 = pair_rdd6.coalesce(2)\n",
        "pair_rdd2.getNumPartitions()"
      ],
      "metadata": {
        "colab": {
          "base_uri": "https://localhost:8080/"
        },
        "id": "X0gQxdOLTu7H",
        "outputId": "f6dbe3cb-b2ee-487e-f65f-8885783319c6"
      },
      "execution_count": 40,
      "outputs": [
        {
          "output_type": "execute_result",
          "data": {
            "text/plain": [
              "2"
            ]
          },
          "metadata": {},
          "execution_count": 40
        }
      ]
    },
    {
      "cell_type": "markdown",
      "source": [
        "### partitionBy() utiliza una funcion de particion para RDDs de clave-valor"
      ],
      "metadata": {
        "id": "3rD8min0Tvu1"
      }
    },
    {
      "cell_type": "code",
      "source": [
        "pair_rdd3=pair_rdd.partitionBy(3)\n",
        "pair_rdd3.glom().collect()"
      ],
      "metadata": {
        "colab": {
          "base_uri": "https://localhost:8080/"
        },
        "id": "F0PkjSybT3D4",
        "outputId": "6607471d-5b39-47d5-cb68-04a3d6b090a6"
      },
      "execution_count": 46,
      "outputs": [
        {
          "output_type": "execute_result",
          "data": {
            "text/plain": [
              "[[(3, 3), (3, 3)], [(1, 1), (1, 1), (4, 4), (4, 4)], [(2, 2), (2, 2)]]"
            ]
          },
          "metadata": {},
          "execution_count": 46
        }
      ]
    },
    {
      "cell_type": "code",
      "source": [
        "pair_rdd2=pair_rdd.partitionBy(2)\n",
        "pair_rdd2.glom().collect()"
      ],
      "metadata": {
        "colab": {
          "base_uri": "https://localhost:8080/"
        },
        "id": "ZLX_VP9KVDli",
        "outputId": "7785c02a-164b-4e68-d2f3-fcc196c12b24"
      },
      "execution_count": 47,
      "outputs": [
        {
          "output_type": "execute_result",
          "data": {
            "text/plain": [
              "[[(2, 2), (2, 2), (4, 4), (4, 4)], [(1, 1), (1, 1), (3, 3), (3, 3)]]"
            ]
          },
          "metadata": {},
          "execution_count": 47
        }
      ]
    }
  ]
}