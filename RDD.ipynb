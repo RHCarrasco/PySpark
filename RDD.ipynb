{
  "nbformat": 4,
  "nbformat_minor": 0,
  "metadata": {
    "colab": {
      "provenance": [],
      "toc_visible": true,
      "authorship_tag": "ABX9TyMa3xzdh2NRcQwgu7f0XekM"
    },
    "kernelspec": {
      "name": "python3",
      "display_name": "Python 3"
    },
    "language_info": {
      "name": "python"
    }
  },
  "cells": [
    {
      "cell_type": "code",
      "execution_count": null,
      "metadata": {
        "id": "UtD6nhtr70ZP"
      },
      "outputs": [],
      "source": [
        "from pyspark import SparkContext"
      ]
    },
    {
      "cell_type": "code",
      "source": [
        "sc=SparkContext()"
      ],
      "metadata": {
        "id": "YALEBe9RNlK3"
      },
      "execution_count": null,
      "outputs": []
    },
    {
      "cell_type": "code",
      "source": [
        "textFile = sc.textFile('ejemplo.txt')"
      ],
      "metadata": {
        "id": "gHFargQkODRL"
      },
      "execution_count": null,
      "outputs": []
    },
    {
      "cell_type": "code",
      "source": [
        "textFile"
      ],
      "metadata": {
        "colab": {
          "base_uri": "https://localhost:8080/"
        },
        "id": "u1bKcImsOsr9",
        "outputId": "b76ed16b-2aa9-4283-f3e8-f52e6738ba97"
      },
      "execution_count": null,
      "outputs": [
        {
          "output_type": "execute_result",
          "data": {
            "text/plain": [
              "ejemplo.txt MapPartitionsRDD[1] at textFile at NativeMethodAccessorImpl.java:0"
            ]
          },
          "metadata": {},
          "execution_count": 9
        }
      ]
    },
    {
      "cell_type": "markdown",
      "source": [
        "#Acciones"
      ],
      "metadata": {
        "id": "4AA02cEZPWur"
      }
    },
    {
      "cell_type": "code",
      "source": [
        "#Devuelve el contenido del RDD\n",
        "textFile.collect()"
      ],
      "metadata": {
        "colab": {
          "base_uri": "https://localhost:8080/"
        },
        "id": "BnnMUjQeOxYD",
        "outputId": "b8b85d7b-3dcb-4c47-f5aa-e97b6febd557"
      },
      "execution_count": null,
      "outputs": [
        {
          "output_type": "execute_result",
          "data": {
            "text/plain": [
              "['primera linea', 'segunda linea', 'tercera linea', 'cuarta linea']"
            ]
          },
          "metadata": {},
          "execution_count": 10
        }
      ]
    },
    {
      "cell_type": "code",
      "source": [
        "#Devuelve el numero de elementos del RDD\n",
        "textFile.count()"
      ],
      "metadata": {
        "colab": {
          "base_uri": "https://localhost:8080/"
        },
        "id": "X6wwUj-eO5AA",
        "outputId": "cceb5100-95db-4d16-8aa4-b526d1892a20"
      },
      "execution_count": null,
      "outputs": [
        {
          "output_type": "execute_result",
          "data": {
            "text/plain": [
              "4"
            ]
          },
          "metadata": {},
          "execution_count": 11
        }
      ]
    },
    {
      "cell_type": "code",
      "source": [
        "#Devuelve el primer elemento del RDD\n",
        "textFile.first()"
      ],
      "metadata": {
        "colab": {
          "base_uri": "https://localhost:8080/",
          "height": 35
        },
        "id": "cmtuS3zjPeBa",
        "outputId": "a22acc48-e6c5-43c6-d902-48514eaca183"
      },
      "execution_count": null,
      "outputs": [
        {
          "output_type": "execute_result",
          "data": {
            "text/plain": [
              "'primera linea'"
            ],
            "application/vnd.google.colaboratory.intrinsic+json": {
              "type": "string"
            }
          },
          "metadata": {},
          "execution_count": 12
        }
      ]
    },
    {
      "cell_type": "markdown",
      "source": [
        "#Transformaciones"
      ],
      "metadata": {
        "id": "L2SSYoPZPe7m"
      }
    },
    {
      "cell_type": "code",
      "source": [
        "#Filtra cualquier linea del RDD que tenga la palabra 'segunda'\n",
        "segunda = textFile.filter(lambda linea: 'segunda' in linea)\n",
        "segunda.collect()"
      ],
      "metadata": {
        "colab": {
          "base_uri": "https://localhost:8080/"
        },
        "id": "mEDJkYgWPGTZ",
        "outputId": "6d501be3-5847-4c18-c6c1-567a6b57b222"
      },
      "execution_count": null,
      "outputs": [
        {
          "output_type": "execute_result",
          "data": {
            "text/plain": [
              "['segunda linea']"
            ]
          },
          "metadata": {},
          "execution_count": 17
        }
      ]
    },
    {
      "cell_type": "code",
      "source": [],
      "metadata": {
        "id": "h5p6Z3diP6Xd"
      },
      "execution_count": null,
      "outputs": []
    }
  ]
}