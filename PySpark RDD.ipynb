{
  "nbformat": 4,
  "nbformat_minor": 0,
  "metadata": {
    "colab": {
      "provenance": [],
      "authorship_tag": "ABX9TyM5LcVp2MJj4hkKS3wZ7qTm"
    },
    "kernelspec": {
      "name": "python3",
      "display_name": "Python 3"
    },
    "language_info": {
      "name": "python"
    }
  },
  "cells": [
    {
      "cell_type": "code",
      "execution_count": 5,
      "metadata": {
        "id": "UtD6nhtr70ZP",
        "colab": {
          "base_uri": "https://localhost:8080/",
          "height": 140
        },
        "outputId": "9eac3ab6-4a0e-4807-cd62-038fb58631c9"
      },
      "outputs": [
        {
          "output_type": "error",
          "ename": "SyntaxError",
          "evalue": "ignored",
          "traceback": [
            "\u001b[0;36m  File \u001b[0;32m\"<ipython-input-5-af7e614010d5>\"\u001b[0;36m, line \u001b[0;32m1\u001b[0m\n\u001b[0;31m    pip install pyspark\u001b[0m\n\u001b[0m        ^\u001b[0m\n\u001b[0;31mSyntaxError\u001b[0m\u001b[0;31m:\u001b[0m invalid syntax\n"
          ]
        }
      ],
      "source": [
        "pip install pyspark\n",
        "from pyspark import SparkContext"
      ]
    },
    {
      "cell_type": "code",
      "source": [
        "sc=SparkContext()"
      ],
      "metadata": {
        "id": "YALEBe9RNlK3"
      },
      "execution_count": null,
      "outputs": []
    },
    {
      "cell_type": "code",
      "source": [
        "textFile = sc.textFile('ejemplo.txt')"
      ],
      "metadata": {
        "id": "gHFargQkODRL"
      },
      "execution_count": null,
      "outputs": []
    },
    {
      "cell_type": "code",
      "source": [
        "lista = [1,2,3,4,5]\n",
        "rdd = sc.parallelize(lista)"
      ],
      "metadata": {
        "id": "u1bKcImsOsr9"
      },
      "execution_count": null,
      "outputs": []
    },
    {
      "cell_type": "markdown",
      "source": [
        "#Acciones"
      ],
      "metadata": {
        "id": "4AA02cEZPWur"
      }
    },
    {
      "cell_type": "code",
      "source": [
        "#Devuelve el contenido del RDD\n",
        "textFile.collect()"
      ],
      "metadata": {
        "colab": {
          "base_uri": "https://localhost:8080/"
        },
        "id": "BnnMUjQeOxYD",
        "outputId": "45ba61b4-7208-41a5-feee-9f59a4ec37e3"
      },
      "execution_count": null,
      "outputs": [
        {
          "output_type": "execute_result",
          "data": {
            "text/plain": [
              "['primera linea', 'segunda linea', 'tercera linea', 'cuarta linea']"
            ]
          },
          "metadata": {},
          "execution_count": 24
        }
      ]
    },
    {
      "cell_type": "code",
      "source": [
        "#Devuelve el numero de elementos del RDD\n",
        "textFile.count()"
      ],
      "metadata": {
        "colab": {
          "base_uri": "https://localhost:8080/"
        },
        "id": "X6wwUj-eO5AA",
        "outputId": "47734576-cb7c-42e4-bc55-3baaa7349de1"
      },
      "execution_count": null,
      "outputs": [
        {
          "output_type": "execute_result",
          "data": {
            "text/plain": [
              "4"
            ]
          },
          "metadata": {},
          "execution_count": 25
        }
      ]
    },
    {
      "cell_type": "code",
      "source": [
        "#Devuelve el primer elemento del RDD\n",
        "textFile.first()"
      ],
      "metadata": {
        "colab": {
          "base_uri": "https://localhost:8080/",
          "height": 35
        },
        "id": "cmtuS3zjPeBa",
        "outputId": "8123ecd7-d293-431b-ea68-2a604ae46c23"
      },
      "execution_count": null,
      "outputs": [
        {
          "output_type": "execute_result",
          "data": {
            "text/plain": [
              "'primera linea'"
            ],
            "application/vnd.google.colaboratory.intrinsic+json": {
              "type": "string"
            }
          },
          "metadata": {},
          "execution_count": 26
        }
      ]
    },
    {
      "cell_type": "markdown",
      "source": [
        "#Transformaciones"
      ],
      "metadata": {
        "id": "L2SSYoPZPe7m"
      }
    },
    {
      "cell_type": "markdown",
      "source": [
        "### filter() filtra los elementos de un RDD"
      ],
      "metadata": {
        "id": "rMovZUCaZyzt"
      }
    },
    {
      "cell_type": "code",
      "source": [
        "#Filtra cualquier linea del RDD que tenga la palabra 'segunda'\n",
        "segunda = textFile.filter(lambda linea: 'segunda' in linea)\n",
        "segunda.collect()"
      ],
      "metadata": {
        "colab": {
          "base_uri": "https://localhost:8080/"
        },
        "id": "mEDJkYgWPGTZ",
        "outputId": "0f739bd0-b76d-44b3-a073-29b10b7b4cbf"
      },
      "execution_count": null,
      "outputs": [
        {
          "output_type": "execute_result",
          "data": {
            "text/plain": [
              "['segunda linea']"
            ]
          },
          "metadata": {},
          "execution_count": 27
        }
      ]
    },
    {
      "cell_type": "code",
      "source": [
        "filtrado_rdd = rdd.filter(lambda x: x > 1)\n",
        "filtrado_rdd.collect()"
      ],
      "metadata": {
        "id": "h5p6Z3diP6Xd",
        "colab": {
          "base_uri": "https://localhost:8080/"
        },
        "outputId": "28509269-b1e7-4332-8f00-a4d846a13cab"
      },
      "execution_count": null,
      "outputs": [
        {
          "output_type": "execute_result",
          "data": {
            "text/plain": [
              "[2, 3, 4, 5]"
            ]
          },
          "metadata": {},
          "execution_count": 33
        }
      ]
    },
    {
      "cell_type": "markdown",
      "source": [
        "### map() aplica una función a todos los elementos de un RDD"
      ],
      "metadata": {
        "id": "suHJDnRXZ88N"
      }
    },
    {
      "cell_type": "code",
      "source": [
        "#Aplicar una funcion a los elmentos de un RDD"
      ],
      "metadata": {
        "colab": {
          "base_uri": "https://localhost:8080/"
        },
        "id": "hsXOPFhBTRPo",
        "outputId": "1c6d32a2-66e8-4f50-e967-e9aba9eb2fb9"
      },
      "execution_count": null,
      "outputs": [
        {
          "output_type": "execute_result",
          "data": {
            "text/plain": [
              "[2, 3, 4, 5]"
            ]
          },
          "metadata": {},
          "execution_count": 29
        }
      ]
    },
    {
      "cell_type": "code",
      "source": [
        "def suma1(x):\n",
        "  return (x+1)\n",
        "\n",
        "filtrado_sumado_rdd = filtrado_rdd.map(suma1)"
      ],
      "metadata": {
        "id": "Q3J76E4CTZHx",
        "colab": {
          "base_uri": "https://localhost:8080/",
          "height": 210
        },
        "outputId": "21aa8c5d-41c3-4ed9-adb6-9757f92c5798"
      },
      "execution_count": 1,
      "outputs": [
        {
          "output_type": "error",
          "ename": "NameError",
          "evalue": "ignored",
          "traceback": [
            "\u001b[0;31m---------------------------------------------------------------------------\u001b[0m",
            "\u001b[0;31mNameError\u001b[0m                                 Traceback (most recent call last)",
            "\u001b[0;32m<ipython-input-1-39978506a149>\u001b[0m in \u001b[0;36m<cell line: 4>\u001b[0;34m()\u001b[0m\n\u001b[1;32m      2\u001b[0m   \u001b[0;32mreturn\u001b[0m \u001b[0;34m(\u001b[0m\u001b[0mx\u001b[0m\u001b[0;34m+\u001b[0m\u001b[0;36m1\u001b[0m\u001b[0;34m)\u001b[0m\u001b[0;34m\u001b[0m\u001b[0;34m\u001b[0m\u001b[0m\n\u001b[1;32m      3\u001b[0m \u001b[0;34m\u001b[0m\u001b[0m\n\u001b[0;32m----> 4\u001b[0;31m \u001b[0mfiltrado_sumado_rdd\u001b[0m \u001b[0;34m=\u001b[0m \u001b[0mfiltrado_rdd\u001b[0m\u001b[0;34m.\u001b[0m\u001b[0mmap\u001b[0m\u001b[0;34m(\u001b[0m\u001b[0msuma1\u001b[0m\u001b[0;34m)\u001b[0m\u001b[0;34m\u001b[0m\u001b[0;34m\u001b[0m\u001b[0m\n\u001b[0m",
            "\u001b[0;31mNameError\u001b[0m: name 'filtrado_rdd' is not defined"
          ]
        }
      ]
    },
    {
      "cell_type": "code",
      "source": [],
      "metadata": {
        "id": "_XIa8wv7aPO1"
      },
      "execution_count": null,
      "outputs": []
    }
  ]
}